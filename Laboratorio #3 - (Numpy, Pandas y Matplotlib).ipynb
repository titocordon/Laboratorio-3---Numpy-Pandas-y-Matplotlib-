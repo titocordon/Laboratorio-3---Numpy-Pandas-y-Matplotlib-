{
 "cells": [
  {
   "cell_type": "markdown",
   "id": "b6c0daa2-0d1a-4545-b279-a5dc585096bb",
   "metadata": {},
   "source": [
    "# Laboratorio: Análisis de Datos con Python"
   ]
  },
  {
   "cell_type": "markdown",
   "id": "89c5ccf3-f245-41cd-b33a-4fcec7bdfa20",
   "metadata": {
    "jp-MarkdownHeadingCollapsed": true,
    "tags": []
   },
   "source": [
    "## Parte 1: Numpy:"
   ]
  },
  {
   "cell_type": "markdown",
   "id": "50687ccd-c894-4aed-baf8-aff2ea94909a",
   "metadata": {},
   "source": [
    " **1) ¿Cuál es el tamaño en bytes de un array de 1000 elementos de tipo booleano?**"
   ]
  },
  {
   "cell_type": "markdown",
   "id": "d00b5eab-4766-4103-9bff-9347d97b9b1a",
   "metadata": {},
   "source": [
    "El tamaño en bytes de un array de 1000 elementos booleanos en NumPy es equivalente al tamaño en bytes de 1000 booleanos en Python, ya que cada elemento del array de NumPy ocupa un byte en memoria."
   ]
  },
  {
   "cell_type": "code",
   "execution_count": 6,
   "id": "40e741df-65f8-4f5e-b945-010bd1d4a21f",
   "metadata": {
    "tags": []
   },
   "outputs": [
    {
     "name": "stdout",
     "output_type": "stream",
     "text": [
      "[ True  True  True  True  True  True  True  True  True  True  True  True\n",
      "  True  True  True  True  True  True  True  True  True  True  True  True\n",
      "  True  True  True  True  True  True  True  True  True  True  True  True\n",
      "  True  True  True  True  True  True  True  True  True  True  True  True\n",
      "  True  True  True  True  True  True  True  True  True  True  True  True\n",
      "  True  True  True  True  True  True  True  True  True  True  True  True\n",
      "  True  True  True  True  True  True  True  True  True  True  True  True\n",
      "  True  True  True  True  True  True  True  True  True  True  True  True\n",
      "  True  True  True  True  True  True  True  True  True  True  True  True\n",
      "  True  True  True  True  True  True  True  True  True  True  True  True\n",
      "  True  True  True  True  True  True  True  True  True  True  True  True\n",
      "  True  True  True  True  True  True  True  True  True  True  True  True\n",
      "  True  True  True  True  True  True  True  True  True  True  True  True\n",
      "  True  True  True  True  True  True  True  True  True  True  True  True\n",
      "  True  True  True  True  True  True  True  True  True  True  True  True\n",
      "  True  True  True  True  True  True  True  True  True  True  True  True\n",
      "  True  True  True  True  True  True  True  True  True  True  True  True\n",
      "  True  True  True  True  True  True  True  True  True  True  True  True\n",
      "  True  True  True  True  True  True  True  True  True  True  True  True\n",
      "  True  True  True  True  True  True  True  True  True  True  True  True\n",
      "  True  True  True  True  True  True  True  True  True  True  True  True\n",
      "  True  True  True  True  True  True  True  True  True  True  True  True\n",
      "  True  True  True  True  True  True  True  True  True  True  True  True\n",
      "  True  True  True  True  True  True  True  True  True  True  True  True\n",
      "  True  True  True  True  True  True  True  True  True  True  True  True\n",
      "  True  True  True  True  True  True  True  True  True  True  True  True\n",
      "  True  True  True  True  True  True  True  True  True  True  True  True\n",
      "  True  True  True  True  True  True  True  True  True  True  True  True\n",
      "  True  True  True  True  True  True  True  True  True  True  True  True\n",
      "  True  True  True  True  True  True  True  True  True  True  True  True\n",
      "  True  True  True  True  True  True  True  True  True  True  True  True\n",
      "  True  True  True  True  True  True  True  True  True  True  True  True\n",
      "  True  True  True  True  True  True  True  True  True  True  True  True\n",
      "  True  True  True  True  True  True  True  True  True  True  True  True\n",
      "  True  True  True  True  True  True  True  True  True  True  True  True\n",
      "  True  True  True  True  True  True  True  True  True  True  True  True\n",
      "  True  True  True  True  True  True  True  True  True  True  True  True\n",
      "  True  True  True  True  True  True  True  True  True  True  True  True\n",
      "  True  True  True  True  True  True  True  True  True  True  True  True\n",
      "  True  True  True  True  True  True  True  True  True  True  True  True\n",
      "  True  True  True  True  True  True  True  True  True  True  True  True\n",
      "  True  True  True  True  True  True  True  True  True  True  True  True\n",
      "  True  True  True  True  True  True  True  True  True  True  True  True\n",
      "  True  True  True  True  True  True  True  True  True  True  True  True\n",
      "  True  True  True  True  True  True  True  True  True  True  True  True\n",
      "  True  True  True  True  True  True  True  True  True  True  True  True\n",
      "  True  True  True  True  True  True  True  True  True  True  True  True\n",
      "  True  True  True  True  True  True  True  True  True  True  True  True\n",
      "  True  True  True  True  True  True  True  True  True  True  True  True\n",
      "  True  True  True  True  True  True  True  True  True  True  True  True\n",
      "  True  True  True  True  True  True  True  True  True  True  True  True\n",
      "  True  True  True  True  True  True  True  True  True  True  True  True\n",
      "  True  True  True  True  True  True  True  True  True  True  True  True\n",
      "  True  True  True  True  True  True  True  True  True  True  True  True\n",
      "  True  True  True  True  True  True  True  True  True  True  True  True\n",
      "  True  True  True  True  True  True  True  True  True  True  True  True\n",
      "  True  True  True  True  True  True  True  True  True  True  True  True\n",
      "  True  True  True  True  True  True  True  True  True  True  True  True\n",
      "  True  True  True  True  True  True  True  True  True  True  True  True\n",
      "  True  True  True  True  True  True  True  True  True  True  True  True\n",
      "  True  True  True  True  True  True  True  True  True  True  True  True\n",
      "  True  True  True  True  True  True  True  True  True  True  True  True\n",
      "  True  True  True  True  True  True  True  True  True  True  True  True\n",
      "  True  True  True  True  True  True  True  True  True  True  True  True\n",
      "  True  True  True  True  True  True  True  True  True  True  True  True\n",
      "  True  True  True  True  True  True  True  True  True  True  True  True\n",
      "  True  True  True  True  True  True  True  True  True  True  True  True\n",
      "  True  True  True  True  True  True  True  True  True  True  True  True\n",
      "  True  True  True  True  True  True  True  True  True  True  True  True\n",
      "  True  True  True  True  True  True  True  True  True  True  True  True\n",
      "  True  True  True  True  True  True  True  True  True  True  True  True\n",
      "  True  True  True  True  True  True  True  True  True  True  True  True\n",
      "  True  True  True  True  True  True  True  True  True  True  True  True\n",
      "  True  True  True  True  True  True  True  True  True  True  True  True\n",
      "  True  True  True  True  True  True  True  True  True  True  True  True\n",
      "  True  True  True  True  True  True  True  True  True  True  True  True\n",
      "  True  True  True  True  True  True  True  True  True  True  True  True\n",
      "  True  True  True  True  True  True  True  True  True  True  True  True\n",
      "  True  True  True  True  True  True  True  True  True  True  True  True\n",
      "  True  True  True  True  True  True  True  True  True  True  True  True\n",
      "  True  True  True  True  True  True  True  True  True  True  True  True\n",
      "  True  True  True  True  True  True  True  True  True  True  True  True\n",
      "  True  True  True  True  True  True  True  True  True  True  True  True\n",
      "  True  True  True  True]\n"
     ]
    }
   ],
   "source": [
    "import numpy as np\n",
    "\n",
    "arr = np.full((1000), True, dtype=bool)\n",
    "\n",
    "tamaño_en_bytes = arr.nbytes\n",
    "\n",
    "print(arr)"
   ]
  },
  {
   "cell_type": "markdown",
   "id": "7a6625e0-0533-4bfb-93f2-6f54672d53b6",
   "metadata": {
    "tags": []
   },
   "source": [
    "**2) Cree un array cuyos elementos sean los enteros pares en [1,100] y en orden decreciente. Muestre los 10 últimos por pantalla.**"
   ]
  },
  {
   "cell_type": "code",
   "execution_count": 7,
   "id": "7bdab81f-4eca-4a02-84c9-d9e1d60a8d68",
   "metadata": {
    "tags": []
   },
   "outputs": [],
   "source": [
    "# Primero hay que crear un array con los enteros pares en orden decreciente en el rango de 1 a 100\n",
    "array_pares = [num for num in range(100, 0, -2)] # Donde 100 inicia, 0 termina donde no es inclusivo y -2 es el step decreciente"
   ]
  },
  {
   "cell_type": "code",
   "execution_count": 8,
   "id": "ef77b6f7-b295-4468-947d-490b5057bd8f",
   "metadata": {
    "tags": []
   },
   "outputs": [
    {
     "name": "stdout",
     "output_type": "stream",
     "text": [
      "Los 10 últimos elementos del array son: [20, 18, 16, 14, 12, 10, 8, 6, 4, 2]\n"
     ]
    }
   ],
   "source": [
    "# Ahora para mostrar los últimos 10 elementos en pantalla\n",
    "ultimos_10 = array_pares[-10:]\n",
    "print(f\"Los 10 últimos elementos del array son: {ultimos_10}\")"
   ]
  },
  {
   "cell_type": "markdown",
   "id": "8085c0d3-d6e1-45d8-b3c3-0e47b3234821",
   "metadata": {},
   "source": [
    "**3) Dado el array \n",
    "     2 4 5 6\n",
    "     0 3 7 4 \n",
    "     8 8 5 2 \n",
    "     1 5 6 1 \n",
    "Seleccione con una instrucción el subarray de elementos 0 3 7 4 \n",
    "Después, seleccione el subarray de elementos\n",
    "2 5 \n",
    "8 5**"
   ]
  },
  {
   "cell_type": "code",
   "execution_count": 20,
   "id": "aaf6a8a3-9b45-4a75-a559-743f7b864641",
   "metadata": {
    "tags": []
   },
   "outputs": [
    {
     "name": "stdout",
     "output_type": "stream",
     "text": [
      "[0 3 7 4]\n"
     ]
    }
   ],
   "source": [
    "array_matriz = np.array([[2, 4, 5, 6],\n",
    "                        [0, 3, 7, 4],\n",
    "                        [8, 8, 5, 2],\n",
    "                        [1, 5, 6, 1]])\n",
    "array_fila2 = array_matriz[1]\n",
    "\n",
    "print(array_fila2)"
   ]
  },
  {
   "cell_type": "code",
   "execution_count": 24,
   "id": "5331b95a-863e-4f19-b2bc-5b8747a92e0f",
   "metadata": {
    "tags": []
   },
   "outputs": [
    {
     "name": "stdout",
     "output_type": "stream",
     "text": [
      "Subarray de elementos 2 5 y 8 5 es:\n",
      "[[2 5]\n",
      " [8 5]]\n"
     ]
    }
   ],
   "source": [
    "array_matriz = array_matriz[0:3:2 , [0, 2]]\n",
    "print(f\"Subarray de elementos 2 5 y 8 5 es:\")\n",
    "print(array_matriz)"
   ]
  },
  {
   "cell_type": "markdown",
   "id": "13528167-e702-4025-b121-146ded6e7014",
   "metadata": {},
   "source": [
    "**4) Dados los arrays a = [1, 4, 2, 7] y b = [1, 3, 2, 9], obtenga la media aritmética de la diferencia (a-b).**"
   ]
  },
  {
   "cell_type": "code",
   "execution_count": 26,
   "id": "d231dd71-7e2e-40a0-a051-e256fb9fe8de",
   "metadata": {
    "tags": []
   },
   "outputs": [
    {
     "name": "stdout",
     "output_type": "stream",
     "text": [
      "La media aritmética de la diferencia (a-b) es: -0.25\n"
     ]
    }
   ],
   "source": [
    "a = np.array([1, 4, 2, 7])\n",
    "b = np.array([1, 3, 2, 9])\n",
    "\n",
    "diferencia = a - b\n",
    "media_aritmética = np.mean(diferencia)\n",
    "\n",
    "print(\"La media aritmética de la diferencia (a-b) es:\", media_aritmética)"
   ]
  },
  {
   "cell_type": "markdown",
   "id": "03b99c98-9085-4049-b84b-407b7462d340",
   "metadata": {},
   "source": [
    "**5) Tengo valores de cordenadas (x, y) en las columnas del array**\n",
    "- 1.33 4.5\n",
    "- 30.0 10.7\n",
    "- 70.2 0.5\n",
    "\n",
    "**Agregue a este array las coordenadas (37.1, -3.6). Muestre en pantalla las dimensiones del nuevo array.**"
   ]
  },
  {
   "cell_type": "code",
   "execution_count": 30,
   "id": "f8f86fc6-8795-474c-bb9d-0c6e79312819",
   "metadata": {
    "tags": []
   },
   "outputs": [
    {
     "name": "stdout",
     "output_type": "stream",
     "text": [
      "[[ 1.33  4.5 ]\n",
      " [30.   10.7 ]\n",
      " [70.2   0.5 ]\n",
      " [37.1  -3.6 ]]\n"
     ]
    }
   ],
   "source": [
    "coordenadas_xy = np.array([[1.33, 4.5],\n",
    "                           [30.0, 10.7],\n",
    "                           [70.2, 0.5]])\n",
    "\n",
    "nuevas_coordenadas = np.array([[37.1, -3.6]])\n",
    "\n",
    "coordenadas_totales = np.concatenate((coordenadas_xy, nuevas_coordenadas))\n",
    "\n",
    "print(coordenadas_totales)\n"
   ]
  },
  {
   "cell_type": "markdown",
   "id": "de3258d6-ffb3-4fcf-a0e9-08c27fbc7b02",
   "metadata": {},
   "source": [
    "**6) Copie el array del ejercicio anterior. Traspóngalo y Agregue ahora dos nuevos pares de coordenadas:**\n",
    "- (10.8, 3.0) \n",
    "- (35.8, 12.0)"
   ]
  },
  {
   "cell_type": "code",
   "execution_count": 33,
   "id": "bc9453e0-2bf4-4623-9952-cb0d8d208c35",
   "metadata": {
    "tags": []
   },
   "outputs": [
    {
     "name": "stdout",
     "output_type": "stream",
     "text": [
      "[[ 1.33 30.   70.2  37.1 ]\n",
      " [ 4.5  10.7   0.5  -3.6 ]]\n"
     ]
    }
   ],
   "source": [
    "coordenadas_totales_transpuesta = coordenadas_totales.T\n",
    "print(coordenadas_totales_transpuesta)"
   ]
  },
  {
   "cell_type": "code",
   "execution_count": 34,
   "id": "7ac9c479-93f3-4555-901d-8ba86550a2b3",
   "metadata": {
    "tags": []
   },
   "outputs": [
    {
     "name": "stdout",
     "output_type": "stream",
     "text": [
      "Array transpuesto:\n",
      "[[ 1.33 30.   70.2  37.1 ]\n",
      " [ 4.5  10.7   0.5  -3.6 ]]\n",
      "(2, 4)\n",
      "\n",
      "El nuevo array transpuesto es:\n",
      "[[ 1.33 30.   70.2  37.1  10.8   3.  ]\n",
      " [ 4.5  10.7   0.5  -3.6  35.8  12.  ]]\n"
     ]
    }
   ],
   "source": [
    "# Transponer el array\n",
    "coordenadas_totales_transpuesta = np.transpose(coordenadas_totales)\n",
    "\n",
    "# Imprimir el array transpuesto\n",
    "print(\"Array transpuesto:\")\n",
    "print(coordenadas_totales_transpuesta)\n",
    "print(coordenadas_totales_transpuesta.shape)\n",
    "# Coordenadas adicionales a agregar\n",
    "nuevas_coordenadas = np.array([\n",
    "    [10.8, 3.0],\n",
    "    [35.8, 12.0]\n",
    "])\n",
    "\n",
    "# Agregar las nuevas coordenadas al array transpuesto\n",
    "nuevo_array_transpuesto = np.hstack([coordenadas_totales_transpuesta, nuevas_coordenadas])\n",
    "\n",
    "print(\"\")\n",
    "print(\"El nuevo array transpuesto es:\")\n",
    "print(nuevo_array_transpuesto)"
   ]
  },
  {
   "cell_type": "markdown",
   "id": "43d16c03-2997-4bdb-bd63-c3b1869ca30f",
   "metadata": {
    "tags": []
   },
   "source": [
    " ## Parte 2: Exploración y Minería de Datos:"
   ]
  },
  {
   "cell_type": "markdown",
   "id": "eba00595-23e8-4398-8946-0e6c0b289772",
   "metadata": {},
   "source": [
    "Con el dataset nucleospoblacion.csv adjunto al laboratorio, luego responda las siguientes preguntas usando pandas y matplotlib."
   ]
  },
  {
   "cell_type": "code",
   "execution_count": 35,
   "id": "5a76abe6-4a83-41a3-bf24-672bb587c54e",
   "metadata": {
    "tags": []
   },
   "outputs": [],
   "source": [
    "import pandas as pd\n",
    "import numpy as np\n",
    "import matplotlib.pyplot as plt\n",
    "import seaborn as sns"
   ]
  },
  {
   "cell_type": "code",
   "execution_count": 59,
   "id": "1ec58e45-0fe4-4f4b-a5e0-0f8b5f8a161e",
   "metadata": {
    "tags": []
   },
   "outputs": [
    {
     "data": {
      "text/html": [
       "<div>\n",
       "<style scoped>\n",
       "    .dataframe tbody tr th:only-of-type {\n",
       "        vertical-align: middle;\n",
       "    }\n",
       "\n",
       "    .dataframe tbody tr th {\n",
       "        vertical-align: top;\n",
       "    }\n",
       "\n",
       "    .dataframe thead th {\n",
       "        text-align: right;\n",
       "    }\n",
       "</style>\n",
       "<table border=\"1\" class=\"dataframe\">\n",
       "  <thead>\n",
       "    <tr style=\"text-align: right;\">\n",
       "      <th></th>\n",
       "      <th>FID</th>\n",
       "      <th>OBJECTID</th>\n",
       "      <th>Texto</th>\n",
       "      <th>Poblacion</th>\n",
       "      <th>CodMun</th>\n",
       "      <th>Municipio</th>\n",
       "      <th>CodProvin</th>\n",
       "      <th>Provincia</th>\n",
       "      <th>X</th>\n",
       "      <th>Y</th>\n",
       "    </tr>\n",
       "  </thead>\n",
       "  <tbody>\n",
       "    <tr>\n",
       "      <th>0</th>\n",
       "      <td>0</td>\n",
       "      <td>1</td>\n",
       "      <td>Agüimes</td>\n",
       "      <td>29431.0</td>\n",
       "      <td>35002</td>\n",
       "      <td>Agüimes</td>\n",
       "      <td>35</td>\n",
       "      <td>Las Palmas</td>\n",
       "      <td>-15.446012</td>\n",
       "      <td>27.900542</td>\n",
       "    </tr>\n",
       "    <tr>\n",
       "      <th>1</th>\n",
       "      <td>1</td>\n",
       "      <td>2</td>\n",
       "      <td>Antigua</td>\n",
       "      <td>10458.0</td>\n",
       "      <td>35003</td>\n",
       "      <td>Antigua</td>\n",
       "      <td>35</td>\n",
       "      <td>Las Palmas</td>\n",
       "      <td>-14.013301</td>\n",
       "      <td>28.418966</td>\n",
       "    </tr>\n",
       "    <tr>\n",
       "      <th>2</th>\n",
       "      <td>2</td>\n",
       "      <td>3</td>\n",
       "      <td>Arrecife</td>\n",
       "      <td>58156.0</td>\n",
       "      <td>35004</td>\n",
       "      <td>Arrecife</td>\n",
       "      <td>35</td>\n",
       "      <td>Las Palmas</td>\n",
       "      <td>-13.551451</td>\n",
       "      <td>28.960649</td>\n",
       "    </tr>\n",
       "    <tr>\n",
       "      <th>3</th>\n",
       "      <td>3</td>\n",
       "      <td>4</td>\n",
       "      <td>Arucas</td>\n",
       "      <td>36745.0</td>\n",
       "      <td>35006</td>\n",
       "      <td>Arucas</td>\n",
       "      <td>35</td>\n",
       "      <td>Las Palmas</td>\n",
       "      <td>-15.521512</td>\n",
       "      <td>28.117496</td>\n",
       "    </tr>\n",
       "    <tr>\n",
       "      <th>4</th>\n",
       "      <td>4</td>\n",
       "      <td>5</td>\n",
       "      <td>Gáldar</td>\n",
       "      <td>24473.0</td>\n",
       "      <td>35009</td>\n",
       "      <td>Gáldar</td>\n",
       "      <td>35</td>\n",
       "      <td>Las Palmas</td>\n",
       "      <td>-15.654111</td>\n",
       "      <td>28.143873</td>\n",
       "    </tr>\n",
       "    <tr>\n",
       "      <th>5</th>\n",
       "      <td>5</td>\n",
       "      <td>6</td>\n",
       "      <td>Ingenio</td>\n",
       "      <td>29640.0</td>\n",
       "      <td>35011</td>\n",
       "      <td>Ingenio</td>\n",
       "      <td>35</td>\n",
       "      <td>Las Palmas</td>\n",
       "      <td>-15.442261</td>\n",
       "      <td>27.918781</td>\n",
       "    </tr>\n",
       "    <tr>\n",
       "      <th>6</th>\n",
       "      <td>6</td>\n",
       "      <td>7</td>\n",
       "      <td>Mogán</td>\n",
       "      <td>22638.0</td>\n",
       "      <td>35012</td>\n",
       "      <td>Mogán</td>\n",
       "      <td>35</td>\n",
       "      <td>Las Palmas</td>\n",
       "      <td>-15.726229</td>\n",
       "      <td>27.880172</td>\n",
       "    </tr>\n",
       "    <tr>\n",
       "      <th>7</th>\n",
       "      <td>7</td>\n",
       "      <td>8</td>\n",
       "      <td>La Oliva</td>\n",
       "      <td>22351.0</td>\n",
       "      <td>35014</td>\n",
       "      <td>La Oliva</td>\n",
       "      <td>35</td>\n",
       "      <td>Las Palmas</td>\n",
       "      <td>-13.927340</td>\n",
       "      <td>28.608322</td>\n",
       "    </tr>\n",
       "    <tr>\n",
       "      <th>8</th>\n",
       "      <td>8</td>\n",
       "      <td>9</td>\n",
       "      <td>Pájara</td>\n",
       "      <td>20622.0</td>\n",
       "      <td>35015</td>\n",
       "      <td>Pájara</td>\n",
       "      <td>35</td>\n",
       "      <td>Las Palmas</td>\n",
       "      <td>-14.105631</td>\n",
       "      <td>28.349752</td>\n",
       "    </tr>\n",
       "    <tr>\n",
       "      <th>9</th>\n",
       "      <td>9</td>\n",
       "      <td>10</td>\n",
       "      <td>Las Palmas de Gran Canaria</td>\n",
       "      <td>383308.0</td>\n",
       "      <td>35016</td>\n",
       "      <td>Las Palmas de Gran Canaria</td>\n",
       "      <td>35</td>\n",
       "      <td>Las Palmas</td>\n",
       "      <td>-15.413387</td>\n",
       "      <td>28.099775</td>\n",
       "    </tr>\n",
       "  </tbody>\n",
       "</table>\n",
       "</div>"
      ],
      "text/plain": [
       "   FID  OBJECTID                       Texto  Poblacion  CodMun  \\\n",
       "0    0         1                     Agüimes    29431.0   35002   \n",
       "1    1         2                     Antigua    10458.0   35003   \n",
       "2    2         3                    Arrecife    58156.0   35004   \n",
       "3    3         4                      Arucas    36745.0   35006   \n",
       "4    4         5                      Gáldar    24473.0   35009   \n",
       "5    5         6                     Ingenio    29640.0   35011   \n",
       "6    6         7                       Mogán    22638.0   35012   \n",
       "7    7         8                    La Oliva    22351.0   35014   \n",
       "8    8         9                      Pájara    20622.0   35015   \n",
       "9    9        10  Las Palmas de Gran Canaria   383308.0   35016   \n",
       "\n",
       "                    Municipio  CodProvin   Provincia          X          Y  \n",
       "0                     Agüimes         35  Las Palmas -15.446012  27.900542  \n",
       "1                     Antigua         35  Las Palmas -14.013301  28.418966  \n",
       "2                    Arrecife         35  Las Palmas -13.551451  28.960649  \n",
       "3                      Arucas         35  Las Palmas -15.521512  28.117496  \n",
       "4                      Gáldar         35  Las Palmas -15.654111  28.143873  \n",
       "5                     Ingenio         35  Las Palmas -15.442261  27.918781  \n",
       "6                       Mogán         35  Las Palmas -15.726229  27.880172  \n",
       "7                    La Oliva         35  Las Palmas -13.927340  28.608322  \n",
       "8                      Pájara         35  Las Palmas -14.105631  28.349752  \n",
       "9  Las Palmas de Gran Canaria         35  Las Palmas -15.413387  28.099775  "
      ]
     },
     "execution_count": 59,
     "metadata": {},
     "output_type": "execute_result"
    }
   ],
   "source": [
    "ruta = \"C:\\\\Users\\\\andre\\\\OneDrive\\\\Documentos\\\\Maestría\\\\Segundo Año\\\\Ciencia de Datos en Python\\\\Jupiter\\\\Laboratorio #3 - (Numpy, Pandas y Matplotlib)\\\\Lab3 (1)\\\\Lab3\\\\NucleosPoblacion.csv\"\n",
    "dataset = pd.read_csv(ruta)\n",
    "dataset.head(10)"
   ]
  },
  {
   "cell_type": "markdown",
   "id": "480c1fad-0251-49b0-873a-a0bef74468a5",
   "metadata": {},
   "source": [
    "**1) ¿Cuántos Municipios tienen más de 100,000 habitantes?.**"
   ]
  },
  {
   "cell_type": "code",
   "execution_count": 47,
   "id": "0929ab68-bebd-4042-944b-004eb00d5b92",
   "metadata": {
    "tags": []
   },
   "outputs": [
    {
     "name": "stdout",
     "output_type": "stream",
     "text": [
      "Número de municipios con más de 100,000 habitantes: 62\n"
     ]
    }
   ],
   "source": [
    "municipios_mas_100k = dataset[dataset['Poblacion'] > 100000]\n",
    "num_municipios_mas_100k = len(municipios_mas_100k)\n",
    "print(\"Número de municipios con más de 100,000 habitantes:\", num_municipios_mas_100k)"
   ]
  },
  {
   "cell_type": "markdown",
   "id": "6e634bef-6c2b-4022-9fbe-9fa75aa6312d",
   "metadata": {},
   "source": [
    "**2) Realice una gráfica de barras sobre la población de cada ciudad, ordenela de menor a mayo y responda:**\n",
    "- a. ¿Cuál es la segunda ciudad más poblada?\n"
   ]
  },
  {
   "cell_type": "code",
   "execution_count": 52,
   "id": "91f41795-5eee-4137-9bbe-0c0486d41d4b",
   "metadata": {
    "tags": []
   },
   "outputs": [
    {
     "data": {
      "image/png": "[encoded data removed]",
      "text/plain": [
       "<Figure size 1000x600 with 1 Axes>"
      ]
     },
     "metadata": {},
     "output_type": "display_data"
    }
   ],
   "source": [
    "# Ordenar el DataFrame por población de manera ascendente\n",
    "data_ordenada = dataset.sort_values(by='Poblacion' , ascending = False )\n",
    "\n",
    "\n",
    "\n",
    "# Crear la gráfica de barras\n",
    "plt.figure(figsize=(10, 6))\n",
    "plt.bar(data_ordenada['Provincia'], data_ordenada['Poblacion'], color='green')\n",
    "plt.xlabel('Provincia')\n",
    "plt.ylabel('Población')\n",
    "plt.title('Población de cada provincia')\n",
    "plt.xticks(rotation=90)\n",
    "plt.grid(axis='y')\n",
    "\n",
    "# Mostrar la gráfica\n",
    "plt.show()"
   ]
  },
  {
   "cell_type": "code",
   "execution_count": 53,
   "id": "088d9c6e-7355-4593-bbca-391b1e89b335",
   "metadata": {
    "tags": []
   },
   "outputs": [
    {
     "name": "stdout",
     "output_type": "stream",
     "text": [
      "a. La segunda ciudad más poblada es: Barcelona\n"
     ]
    }
   ],
   "source": [
    "segunda_ciudad_mas_poblada = data_ordenada.iloc[1]['Provincia']\n",
    "print(\"a. La segunda ciudad más poblada es:\", segunda_ciudad_mas_poblada)"
   ]
  },
  {
   "cell_type": "markdown",
   "id": "7bc92ae1-0eee-4a95-9c30-bb84cdc4f927",
   "metadata": {
    "tags": []
   },
   "source": [
    "- b. ¿Qué posición ocupa Granada en el ranking de las ciudades más pobladas?"
   ]
  },
  {
   "cell_type": "code",
   "execution_count": 62,
   "id": "4c33fef5-49e4-4c40-b9b1-d251ee243509",
   "metadata": {
    "tags": []
   },
   "outputs": [
    {
     "name": "stdout",
     "output_type": "stream",
     "text": [
      "Granada ocupa la posición 273 en el ranking de las ciudades más pobladas.\n"
     ]
    }
   ],
   "source": [
    "posicion_granada = data_ordenada[data_ordenada['Provincia'] == 'Granada'].index[0] + 1\n",
    "print(\"Granada ocupa la posición\", posicion_granada, \"en el ranking de las ciudades más pobladas.\")"
   ]
  },
  {
   "cell_type": "markdown",
   "id": "ff16ce38-8327-45b0-9981-34589ebd8a54",
   "metadata": {},
   "source": [
    "**3) ¿Cuántos municipios de Navarra tienen más de 5000 habitantes?.**"
   ]
  },
  {
   "cell_type": "code",
   "execution_count": 63,
   "id": "05cd458c-4f07-4fe6-84e8-132d9cfec60a",
   "metadata": {
    "tags": []
   },
   "outputs": [
    {
     "name": "stdout",
     "output_type": "stream",
     "text": [
      "El número de municipios de Navarra con más de 5000 habitantes es: 11\n"
     ]
    }
   ],
   "source": [
    "navarra_dataset = dataset[dataset['Provincia'] == 'Navarra']\n",
    "municipios_mas_5000 = navarra_dataset[navarra_dataset['Poblacion'] > 5000]\n",
    "num_municipios_mas_5000 = len(municipios_mas_5000)\n",
    "print(f\"El número de municipios de Navarra con más de 5000 habitantes es: {num_municipios_mas_5000}\")"
   ]
  },
  {
   "cell_type": "markdown",
   "id": "0ebfaa66-a62a-4268-849b-62311f478aee",
   "metadata": {},
   "source": [
    "**4) ¿Cuál es el municipio situado más al Norte? (Usar el valor de la coordenada \"Y\" que representa la latitud en grados). Proporcione también la provincia a la que pertenece y su población.**\n"
   ]
  },
  {
   "cell_type": "code",
   "execution_count": 64,
   "id": "31af1bb4-d512-430f-a412-d92c11d42895",
   "metadata": {
    "tags": []
   },
   "outputs": [
    {
     "name": "stdout",
     "output_type": "stream",
     "text": [
      "El municipio más al Norte es Viveiro en la provincia de Lugo con una población de 16211.0 habitantes.\n"
     ]
    }
   ],
   "source": [
    "municipio_norte = dataset.loc[dataset['Y'].idxmax()]\n",
    "\n",
    "provincia_municipio_norte = municipio_norte['Provincia']\n",
    "poblacion_municipio_norte = municipio_norte['Poblacion']\n",
    "\n",
    "\n",
    "print(f\"El municipio más al Norte es {municipio_norte['Municipio']} en la provincia de {provincia_municipio_norte} con una población de {poblacion_municipio_norte} habitantes.\")"
   ]
  },
  {
   "cell_type": "markdown",
   "id": "c9933178-ef94-4154-b7cf-114d94752d61",
   "metadata": {},
   "source": [
    "**5) Obtenga la media, mediana, desviación estándar, valor  máximo y valor mínimo de la población de los municipios de la provincia de Granada.**"
   ]
  },
  {
   "cell_type": "code",
   "execution_count": 66,
   "id": "2a5dcd4c-de28-4d7b-b574-62adf92109f9",
   "metadata": {
    "tags": []
   },
   "outputs": [
    {
     "name": "stdout",
     "output_type": "stream",
     "text": [
      "Estadísticas de población para los municipios de la provincia de Granada:\n",
      "Media: 30217.85\n",
      "Mediana: 17526.0\n",
      "Desviación estándar: 50355.49171459277\n",
      "Valor máximo: 239154.0\n",
      "Valor mínimo: 10386.0\n"
     ]
    }
   ],
   "source": [
    "municipios_granada = dataset[dataset['Provincia'] == 'Granada']\n",
    "media_poblacion = municipios_granada['Poblacion'].mean()\n",
    "mediana_poblacion = municipios_granada['Poblacion'].median()\n",
    "desviacion_estandar_poblacion = municipios_granada['Poblacion'].std()\n",
    "valor_maximo_poblacion = municipios_granada['Poblacion'].max()\n",
    "valor_minimo_poblacion = municipios_granada['Poblacion'].min()\n",
    "\n",
    "print(\"Estadísticas de población para los municipios de la provincia de Granada:\")\n",
    "print(\"Media:\", media_poblacion)\n",
    "print(\"Mediana:\", mediana_poblacion)\n",
    "print(\"Desviación estándar:\", desviacion_estandar_poblacion)\n",
    "print(\"Valor máximo:\", valor_maximo_poblacion)\n",
    "print(\"Valor mínimo:\", valor_minimo_poblacion)"
   ]
  },
  {
   "cell_type": "markdown",
   "id": "c19156b2-7139-4ca4-b262-7d98d1e0d7fe",
   "metadata": {},
   "source": [
    "**6) Realice un histograma con la población de los Municipios para cada una de las provincias.**"
   ]
  },
  {
   "cell_type": "code",
   "execution_count": 73,
   "id": "19486e06-2c8c-429d-91c6-c1c421efc92d",
   "metadata": {
    "tags": []
   },
   "outputs": [
    {
     "ename": "SyntaxError",
     "evalue": "invalid non-printable character U+00A0 (2474449493.py, line 19)",
     "output_type": "error",
     "traceback": [
      "\u001b[1;36m  Cell \u001b[1;32mIn[73], line 19\u001b[1;36m\u001b[0m\n\u001b[1;33m    plt.show(10)\u001b[0m\n\u001b[1;37m    ^\u001b[0m\n\u001b[1;31mSyntaxError\u001b[0m\u001b[1;31m:\u001b[0m invalid non-printable character U+00A0\n"
     ]
    }
   ],
   "source": [
    "# Obtener la lista de provincias únicas\n",
    "provincias = dataset['Provincia'].unique()\n",
    "\n",
    "# Configurar el diseño de la figura\n",
    "plt.figure(figsize=(12, 8))\n",
    "\n",
    "# Iterar sobre cada provincia y trazar un histograma para la población de sus municipios\n",
    "for provincia in provincias:\n",
    "    poblacion_provincia = dataset[dataset['Provincia'] == provincia]['Poblacion']\n",
    "    plt.hist(poblacion_provincia, bins=10,label=provincia , color = \"green\")\n",
    "\n",
    "    # Configurar las etiquetas y el título del gráfico\n",
    "    plt.xlabel('Población')\n",
    "    plt.ylabel('Frecuencia')\n",
    "    plt.title('Histograma de población de' + \" \" + provincia)\n",
    "    plt.legend(title='Provincia')\n",
    "\n",
    "    # Mostrar el histograma\n",
    "    plt.show()"
   ]
  },
  {
   "cell_type": "markdown",
   "id": "787d6a84-19e3-4dbc-a487-82222d3289a7",
   "metadata": {},
   "source": [
    "**7) Seleccione al azar cincuenta municipios diferentes de entre los diponibles en el archivo. Asegúrese de que no se repitan. ¿Luego calcule el promedio de la población y la desviación estándar de esto 50 municipios?.**"
   ]
  },
  {
   "cell_type": "code",
   "execution_count": 74,
   "id": "3db9fed5-8338-4ee8-a531-508bd3448658",
   "metadata": {
    "tags": []
   },
   "outputs": [
    {
     "name": "stdout",
     "output_type": "stream",
     "text": [
      "Los 50 municipios aleatorios son los siguientes:\n",
      "\n",
      "369       San Fernando de Henares\n",
      "640                          Gavà\n",
      "602         Ciutadella de Menorca\n",
      "64                          Boiro\n",
      "848                        Murcia\n",
      "798                     Cartagena\n",
      "503                         Ocaña\n",
      "385                     Antequera\n",
      "418              Molina de Segura\n",
      "148          Mairena del Aljarafe\n",
      "389                      Estepona\n",
      "518                       Alfafar\n",
      "747                     Vallirana\n",
      "207                         Vícar\n",
      "662                 Pineda de Mar\n",
      "105         O Barco de Valdeorras\n",
      "370    San Lorenzo de El Escorial\n",
      "664                 Premià de Mar\n",
      "410                     Cartagena\n",
      "641                    Granollers\n",
      "473                       Segovia\n",
      "513                       Alberic\n",
      "595                         Dénia\n",
      "138                Ciudad Rodrigo\n",
      "749                       Melilla\n",
      "706           Castelló d'Empúries\n",
      "739                       Tortosa\n",
      "132                      Sanxenxo\n",
      "675       Sant Feliu de Llobregat\n",
      "405                       Archena\n",
      "756                 San Bartolomé\n",
      "743                      Deltebre\n",
      "526                     Burjassot\n",
      "438             Villava/Atarrabia\n",
      "807                        Murcia\n",
      "533                     Xirivella\n",
      "379       Villanueva del Pardillo\n",
      "77                         Rianxo\n",
      "44                        Montijo\n",
      "471                       Santoña\n",
      "623                     Barcelona\n",
      "11                  San Bartolomé\n",
      "802              Molina de Segura\n",
      "310                          Jaca\n",
      "617                      Santanyí\n",
      "92                         Moguer\n",
      "732                      Cambrils\n",
      "23                     Candelaria\n",
      "350                     Galapagar\n",
      "661                         Piera\n",
      "Name: Municipio, dtype: object\n",
      "\n",
      "Promedio de la población de los cincuenta municipios seleccionados: 62237.24\n",
      "\n",
      "Desviación estándar de la población de los cincuenta municipios seleccionados: 226878.62\n"
     ]
    }
   ],
   "source": [
    "# Seleccionar al azar cincuenta municipios sin reemplazo\n",
    "muestras_aleatorias = dataset.sample(n=50, replace=False)\n",
    "print(\"Los 50 municipios aleatorios son los siguientes:\")\n",
    "print(\"\")\n",
    "print(muestras_aleatorias['Municipio'])\n",
    "\n",
    "# Calcular el promedio y la desviación estándar de la población de estos cincuenta municipios\n",
    "promedio_poblacion = round(muestras_aleatorias['Poblacion'].mean(),2)\n",
    "desviacion_estandar_poblacion = round(muestras_aleatorias['Poblacion'].std(),2)\n",
    "\n",
    "print(\"\")\n",
    "print(\"Promedio de la población de los cincuenta municipios seleccionados:\", promedio_poblacion)\n",
    "print(\"\")\n",
    "print(\"Desviación estándar de la población de los cincuenta municipios seleccionados:\", desviacion_estandar_poblacion)"
   ]
  },
  {
   "cell_type": "markdown",
   "id": "ba05152c-becf-49b8-a74e-daefab047438",
   "metadata": {},
   "source": [
    "**8) Determine los nombres de los Municipios más cercano y más lejano a Madrid. Para ello debe calcular la distancia en todos ellos y Madrid. No considere a Madrid en el análisis ya que la distancia sería cero**"
   ]
  },
  {
   "cell_type": "code",
   "execution_count": null,
   "id": "15e9ee19-a6f0-4b0d-949d-c9de55739925",
   "metadata": {},
   "outputs": [],
   "source": []
  }
 ],
 "metadata": {
  "kernelspec": {
   "display_name": "Python 3 (ipykernel)",
   "language": "python",
   "name": "python3"
  },
  "language_info": {
   "codemirror_mode": {
    "name": "ipython",
    "version": 3
   },
   "file_extension": ".py",
   "mimetype": "text/x-python",
   "name": "python",
   "nbconvert_exporter": "python",
   "pygments_lexer": "ipython3",
   "version": "3.11.5"
  }
 },
 "nbformat": 4,
 "nbformat_minor": 5
}
